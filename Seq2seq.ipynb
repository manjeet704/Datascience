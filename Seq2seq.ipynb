{
  "nbformat": 4,
  "nbformat_minor": 0,
  "metadata": {
    "colab": {
      "provenance": [],
      "toc_visible": true,
      "authorship_tag": "ABX9TyPH0Crybtr3s9zT6yE5ly/O",
      "include_colab_link": true
    },
    "kernelspec": {
      "name": "python3",
      "display_name": "Python 3"
    },
    "language_info": {
      "name": "python"
    }
  },
  "cells": [
    {
      "cell_type": "markdown",
      "metadata": {
        "id": "view-in-github",
        "colab_type": "text"
      },
      "source": [
        "<a href=\"https://colab.research.google.com/github/manjeet704/Datascience/blob/prac_code/Seq2seq.ipynb\" target=\"_parent\"><img src=\"https://colab.research.google.com/assets/colab-badge.svg\" alt=\"Open In Colab\"/></a>"
      ]
    },
    {
      "cell_type": "code",
      "execution_count": 1,
      "metadata": {
        "id": "wPTgJjTki7ud",
        "colab": {
          "base_uri": "https://localhost:8080/"
        },
        "outputId": "367a17c7-ee0c-4dc1-8ab0-00eb326c88ca"
      },
      "outputs": [
        {
          "output_type": "stream",
          "name": "stdout",
          "text": [
            "--2024-02-14 16:37:56--  http://www.manythings.org/anki/fra-eng.zip\n",
            "Resolving www.manythings.org (www.manythings.org)... 173.254.30.110\n",
            "Connecting to www.manythings.org (www.manythings.org)|173.254.30.110|:80... connected.\n",
            "HTTP request sent, awaiting response... 200 OK\n",
            "Length: 7833145 (7.5M) [application/zip]\n",
            "Saving to: ‘fra-eng.zip’\n",
            "\n",
            "\rfra-eng.zip           0%[                    ]       0  --.-KB/s               \rfra-eng.zip         100%[===================>]   7.47M  --.-KB/s    in 0.05s   \n",
            "\n",
            "2024-02-14 16:37:56 (153 MB/s) - ‘fra-eng.zip’ saved [7833145/7833145]\n",
            "\n"
          ]
        }
      ],
      "source": [
        "# link for dataset: http://www.manythings.org/anki/\n",
        "!wget  http://www.manythings.org/anki/fra-eng.zip\n",
        "!unzip -q fra-eng.zip -d /content/french-eng"
      ]
    },
    {
      "cell_type": "code",
      "source": [
        "#importing libraries\n",
        "from __future__ import print_function\n",
        "\n",
        "from keras.models import Model\n",
        "from keras.layers import Input, LSTM, Dense\n",
        "import numpy as np"
      ],
      "metadata": {
        "id": "Hwyp50XxjBLm"
      },
      "execution_count": 2,
      "outputs": []
    },
    {
      "cell_type": "markdown",
      "source": [],
      "metadata": {
        "id": "TGlGR086jCyg"
      }
    },
    {
      "cell_type": "code",
      "source": [
        "batch_s = 64\n",
        "epochs = 100 # number of epochs for training\n",
        "latent_dimension = 256 # # Latent dimensionality of the encoding space.\n",
        "number_samples = 10000  # Number of samples to train on.\n",
        "# Path to the data txt file on disk.\n",
        "data_path = '/content/french-eng/fra.txt'"
      ],
      "metadata": {
        "id": "S0-d9kMmjDcG"
      },
      "execution_count": 3,
      "outputs": []
    },
    {
      "cell_type": "code",
      "source": [
        "#Vectorize the data\n",
        "input_texts=[]\n",
        "target_texts=[]\n",
        "input_characters=set()\n",
        "target_characters=set()\n",
        "with open(data_path, 'r', encoding='utf-8') as f:\n",
        "  lines=f.read().split('\\n')\n",
        "for line in lines[: min(number_samples, len(lines) - 1)]:\n",
        "    input_text, target_text, _ = line.split('\\t')\n",
        "    # We use \"tab\" as the \"start sequence\" character\n",
        "    # for the targets, and \"\\n\" as \"end sequence\" character.\n",
        "    target_text = '\\t' + target_text + '\\n'\n",
        "    input_texts.append(input_text)\n",
        "    target_texts.append(target_text)\n",
        "    for char in input_text:\n",
        "        if char not in input_characters:\n",
        "            input_characters.add(char)\n",
        "    for char in target_text:\n",
        "        if char not in target_characters:\n",
        "            target_characters.add(char)"
      ],
      "metadata": {
        "id": "cM_-78ClfTzL"
      },
      "execution_count": 6,
      "outputs": []
    },
    {
      "cell_type": "code",
      "source": [
        "input_texts"
      ],
      "metadata": {
        "id": "j6HpFZoxjW8G"
      },
      "execution_count": null,
      "outputs": []
    },
    {
      "cell_type": "code",
      "source": [
        "target_texts"
      ],
      "metadata": {
        "id": "5LG7XCFBkH3I"
      },
      "execution_count": null,
      "outputs": []
    },
    {
      "cell_type": "code",
      "source": [
        "print(\"Number of input sample:\",len(input_texts))\n",
        "print(\"Number of input sample:\",len(target_texts))"
      ],
      "metadata": {
        "colab": {
          "base_uri": "https://localhost:8080/"
        },
        "id": "HJHG9aI8kWA7",
        "outputId": "c112b40f-39bd-44fe-f297-858528a6230c"
      },
      "execution_count": 9,
      "outputs": [
        {
          "output_type": "stream",
          "name": "stdout",
          "text": [
            "Number of input sample: 10000\n",
            "Number of input sample: 10000\n"
          ]
        }
      ]
    },
    {
      "cell_type": "code",
      "source": [
        "input_characters = sorted(list(input_characters))\n",
        "target_characters = sorted(list(target_characters))\n",
        "\n",
        "num_encoder_tokens = len(input_characters)\n",
        "num_decoder_tokens = len(target_characters)\n",
        "\n",
        "max_encoder_seq_length = max([len(txt) for txt in input_texts])\n",
        "max_decoder_seq_length = max([len(txt) for txt in target_texts])\n",
        "\n",
        "print('Number of unique input tokens:', num_encoder_tokens)\n",
        "print('Number of unique output tokens:', num_decoder_tokens)\n",
        "print('Max sequence length for inputs:', max_encoder_seq_length)\n",
        "print('Max sequence length for outputs:', max_decoder_seq_length)\n"
      ],
      "metadata": {
        "colab": {
          "base_uri": "https://localhost:8080/"
        },
        "id": "fBX4QNk9kvRZ",
        "outputId": "13a55aa9-777f-4706-d6ea-1cdf63550696"
      },
      "execution_count": 10,
      "outputs": [
        {
          "output_type": "stream",
          "name": "stdout",
          "text": [
            "Number of unique input tokens: 70\n",
            "Number of unique output tokens: 93\n",
            "Max sequence length for inputs: 14\n",
            "Max sequence length for outputs: 59\n"
          ]
        }
      ]
    },
    {
      "cell_type": "code",
      "source": [
        "num_encoder_tokens"
      ],
      "metadata": {
        "colab": {
          "base_uri": "https://localhost:8080/"
        },
        "id": "8QsdU0GNll6o",
        "outputId": "59a421b3-95d9-42ac-8da0-ffda39a4d67a"
      },
      "execution_count": 11,
      "outputs": [
        {
          "output_type": "execute_result",
          "data": {
            "text/plain": [
              "70"
            ]
          },
          "metadata": {},
          "execution_count": 11
        }
      ]
    },
    {
      "cell_type": "code",
      "source": [
        "input_characters"
      ],
      "metadata": {
        "id": "yehJB_Mkls-B"
      },
      "execution_count": null,
      "outputs": []
    },
    {
      "cell_type": "code",
      "source": [
        "target_characters"
      ],
      "metadata": {
        "id": "Q8dIJ1-Klviu"
      },
      "execution_count": null,
      "outputs": []
    },
    {
      "cell_type": "code",
      "source": [
        "num_decoder_tokens"
      ],
      "metadata": {
        "id": "3fAgs4nxl5Kw"
      },
      "execution_count": null,
      "outputs": []
    },
    {
      "cell_type": "code",
      "source": [
        "input_token_index = dict(\n",
        "  [(char,i)  for i, char in enumerate(input_characters)])\n",
        "input_token_index"
      ],
      "metadata": {
        "id": "xB1qYEIul8B5"
      },
      "execution_count": null,
      "outputs": []
    },
    {
      "cell_type": "code",
      "source": [
        "target_token_index = dict(\n",
        "  [(char,i)  for i, char in enumerate(target_characters)])\n",
        "target_token_index"
      ],
      "metadata": {
        "id": "geHJXXVBmBYQ"
      },
      "execution_count": null,
      "outputs": []
    },
    {
      "cell_type": "markdown",
      "source": [
        "## one hot encoding\n"
      ],
      "metadata": {
        "id": "kRDi3iZVs1c5"
      }
    },
    {
      "cell_type": "code",
      "source": [
        "encoder_input_data = np.zeros(\n",
        "    (len(input_texts), max_encoder_seq_length, num_encoder_tokens),\n",
        "    dtype ='float32')\n",
        "decoder_input_data = np.zeros(\n",
        "    (len(target_texts), max_decoder_seq_length, num_decoder_tokens),\n",
        "    dtype ='float32')\n",
        "\n",
        "decoder_target_data = np.zeros(\n",
        "    (len(target_texts), max_decoder_seq_length, num_decoder_tokens),\n",
        "    dtype ='float32')"
      ],
      "metadata": {
        "id": "b2NaRfG5rWMh"
      },
      "execution_count": 17,
      "outputs": []
    },
    {
      "cell_type": "code",
      "source": [
        "for i, (input_text, target_text) in enumerate(zip(input_texts, target_texts)):\n",
        "    for t, char in enumerate(input_text):\n",
        "        encoder_input_data[i, t, input_token_index[char]] = 1.\n",
        "    encoder_input_data[i, t + 1:, input_token_index[' ']] = 1.\n",
        "    for t, char in enumerate(target_text):\n",
        "        # decoder_target_data is ahead of decoder_input_data by one timestep\n",
        "        decoder_input_data[i, t, target_token_index[char]] = 1.\n",
        "        if t > 0:\n",
        "            # decoder_target_data will be ahead by one timestep\n",
        "            # and will not include the start character.\n",
        "            decoder_target_data[i, t - 1, target_token_index[char]] = 1.\n",
        "    decoder_input_data[i, t + 1:, target_token_index[' ']] = 1.\n",
        "    decoder_target_data[i, t:, target_token_index[' ']] = 1."
      ],
      "metadata": {
        "id": "4nXKrVdetA-5"
      },
      "execution_count": 18,
      "outputs": []
    },
    {
      "cell_type": "code",
      "source": [
        "decoder_target_data"
      ],
      "metadata": {
        "id": "qFua_l2HtJCp"
      },
      "execution_count": null,
      "outputs": []
    },
    {
      "cell_type": "code",
      "source": [
        "encoder_inputs = Input(shape=(None, num_encoder_tokens))\n",
        "encoder = LSTM(latent_dimension, return_state = True)\n",
        "encoder_outputs, state_h, state_c = encoder(encoder_inputs)\n",
        "encoder_states = [state_h, state_c]"
      ],
      "metadata": {
        "id": "gDBxSPNHv7Zi"
      },
      "execution_count": 20,
      "outputs": []
    },
    {
      "cell_type": "code",
      "source": [
        "decoder_inputs = Input(shape=(None, num_decoder_tokens))\n",
        "decoder_lstm = LSTM(latent_dimension, return_sequences = True, return_state = True)\n",
        "decoder_output,_, _ = decoder_lstm(decoder_inputs, initial_state = encoder_states)\n",
        "decoder_dense = Dense(num_decoder_tokens, activation = 'softmax')\n",
        "decoder_outputs = decoder_dense(decoder_output)"
      ],
      "metadata": {
        "id": "1UpQ7qbIv9ro"
      },
      "execution_count": 21,
      "outputs": []
    },
    {
      "cell_type": "code",
      "source": [
        "model = Model([encoder_inputs, decoder_inputs],decoder_outputs )"
      ],
      "metadata": {
        "id": "AAfX4oTUwCU0"
      },
      "execution_count": 22,
      "outputs": []
    },
    {
      "cell_type": "code",
      "source": [
        "# compile\n",
        "model.compile(optimizer = 'adam', loss = 'categorical_crossentropy',\n",
        "              metrics =['accuracy'])"
      ],
      "metadata": {
        "id": "dPC71BflwHIS"
      },
      "execution_count": 23,
      "outputs": []
    },
    {
      "cell_type": "code",
      "source": [
        "# training\n",
        "model.fit([encoder_input_data, decoder_input_data], decoder_target_data,\n",
        "          batch_size = batch_s,\n",
        "          epochs = 3,\n",
        "          validation_split = 0.2)"
      ],
      "metadata": {
        "colab": {
          "base_uri": "https://localhost:8080/"
        },
        "id": "cnQ0RSslwNR5",
        "outputId": "049b4b6f-f8f1-4186-c7b4-f3c437db2869"
      },
      "execution_count": 24,
      "outputs": [
        {
          "output_type": "stream",
          "name": "stdout",
          "text": [
            "Epoch 1/3\n",
            "125/125 [==============================] - 47s 346ms/step - loss: 1.2918 - accuracy: 0.7318 - val_loss: 1.0326 - val_accuracy: 0.6995\n",
            "Epoch 2/3\n",
            "125/125 [==============================] - 42s 334ms/step - loss: 0.8543 - accuracy: 0.7632 - val_loss: 0.8669 - val_accuracy: 0.7629\n",
            "Epoch 3/3\n",
            "125/125 [==============================] - 42s 338ms/step - loss: 0.7177 - accuracy: 0.8042 - val_loss: 0.7437 - val_accuracy: 0.7933\n"
          ]
        },
        {
          "output_type": "execute_result",
          "data": {
            "text/plain": [
              "<keras.src.callbacks.History at 0x78eb89a974c0>"
            ]
          },
          "metadata": {},
          "execution_count": 24
        }
      ]
    },
    {
      "cell_type": "code",
      "source": [
        "# During inference\n",
        "# re-define encoder and decoder model\n",
        "encoder_model = Model(encoder_inputs, encoder_states)\n",
        "\n",
        "decoder_state_inputs_h = Input(shape=(latent_dimension,))\n",
        "decoder_state_inputs_c = Input(shape=(latent_dimension,))\n",
        "decoder_state_inputs = [decoder_state_inputs_h, decoder_state_inputs_c]\n",
        "decoder_outputs, state_h, state_c = decoder_lstm(decoder_inputs, initial_state = decoder_state_inputs)\n",
        "decoder_state = [state_h, state_c]\n",
        "decoder_model = Model(\n",
        "    [decoder_inputs] + decoder_state_inputs,\n",
        "    [decoder_outputs] + decoder_state)"
      ],
      "metadata": {
        "id": "w8oS1Z5W0Hf_"
      },
      "execution_count": 25,
      "outputs": []
    },
    {
      "cell_type": "code",
      "source": [
        "# Reverse look-up\n",
        "# token index to token / french character\n",
        "reverse_input_char_index = dict(\n",
        "    (i,char) for char,i in input_token_index.items())\n",
        "reverse_input_char_index"
      ],
      "metadata": {
        "id": "UWXjLAFd1ZPC"
      },
      "execution_count": null,
      "outputs": []
    },
    {
      "cell_type": "code",
      "source": [
        "reverse_target_char_index = dict(\n",
        "    (i,char) for char,i in target_token_index.items())\n",
        "reverse_target_char_index"
      ],
      "metadata": {
        "id": "U-tah_wO1hhg"
      },
      "execution_count": null,
      "outputs": []
    },
    {
      "cell_type": "code",
      "source": [
        "def decode_sequence(input_seq):\n",
        "    # Encode the input as state vectors.\n",
        "    states_value = encoder_model.predict(input_seq)\n",
        "\n",
        "    # Generate empty target sequence of length 1.\n",
        "    target_seq = np.zeros((1, 1, num_decoder_tokens))\n",
        "    # Populate the first character of target sequence with the start character.\n",
        "    target_seq[0, 0, target_token_index['\\t']] = 1.\n",
        "\n",
        "    # Sampling loop for a batch of sequences\n",
        "    # (to simplify, here we assume a batch of size 1).\n",
        "    stop_condition = False\n",
        "    decoded_sentence = ''\n",
        "    while not stop_condition:\n",
        "        output_tokens, h, c = decoder_model.predict(\n",
        "            [target_seq] + states_value)\n",
        "\n",
        "        # Sample a token\n",
        "        sampled_token_index = np.argmax(output_tokens[0, -1, :])\n",
        "        sampled_char = reverse_target_char_index[sampled_token_index]\n",
        "        decoded_sentence += sampled_char\n",
        "\n",
        "        # Exit condition: either hit max length\n",
        "        # or find stop character.\n",
        "        if (sampled_char == '\\n' or\n",
        "           len(decoded_sentence) > max_decoder_seq_length):\n",
        "            stop_condition = True\n",
        "\n",
        "        # Update the target sequence (of length 1).\n",
        "        target_seq = np.zeros((1, 1, num_decoder_tokens))\n",
        "        target_seq[0, 0, sampled_token_index] = 1.\n",
        "\n",
        "        # Update states\n",
        "        states_value = [h, c]\n",
        "\n",
        "    return decoded_sentence"
      ],
      "metadata": {
        "id": "uJJldE_B1lyb"
      },
      "execution_count": 28,
      "outputs": []
    },
    {
      "cell_type": "code",
      "source": [
        "for seq_index in range(10):\n",
        "    # Take one sequence (part of the training set)\n",
        "    # for trying out decoding.\n",
        "    input_seq = encoder_input_data[seq_index: seq_index + 1]\n",
        "    decoded_sentence = decode_sequence(input_seq)\n",
        "    print('-')\n",
        "    print('Input sentence:', input_texts[seq_index])\n",
        "    print('Decoded sentence:', decoded_sentence)\n",
        "\n"
      ],
      "metadata": {
        "id": "4Lcnn_Z21xku"
      },
      "execution_count": null,
      "outputs": []
    },
    {
      "cell_type": "code",
      "source": [],
      "metadata": {
        "id": "qvVrak-u15ss"
      },
      "execution_count": null,
      "outputs": []
    }
  ]
}